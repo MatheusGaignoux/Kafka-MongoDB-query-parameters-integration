{
 "cells": [
  {
   "cell_type": "code",
   "execution_count": 1,
   "metadata": {},
   "outputs": [],
   "source": [
    "from producer import QueryProducer # classe contendo o produtor Kafka\n",
    "from pipe import Pipe # classe responsável pela integração Kafka-MongoDB"
   ]
  },
  {
   "cell_type": "code",
   "execution_count": 2,
   "metadata": {},
   "outputs": [],
   "source": [
    "producer = QueryProducer() # instanciando o produtor Kafka\n",
    "pipe = Pipe() # instanciando esteira de integração Kafka-MongoDB"
   ]
  },
  {
   "cell_type": "code",
   "execution_count": 3,
   "metadata": {},
   "outputs": [
    {
     "data": {
      "text/plain": [
       "<pipe.Pipe at 0x7fb562602080>"
      ]
     },
     "execution_count": 3,
     "metadata": {},
     "output_type": "execute_result"
    }
   ],
   "source": [
    "pipe.on # lingando a thread de integração Kafka-MongoDB"
   ]
  },
  {
   "cell_type": "code",
   "execution_count": 4,
   "metadata": {},
   "outputs": [
    {
     "data": {
      "text/plain": [
       "[]"
      ]
     },
     "execution_count": 4,
     "metadata": {},
     "output_type": "execute_result"
    }
   ],
   "source": [
    "pipe.queue # resultado da query realizada no servidor MongoDB antes do envio dos parâmetros"
   ]
  },
  {
   "cell_type": "code",
   "execution_count": 5,
   "metadata": {},
   "outputs": [],
   "source": [
    "import json\n",
    "\n",
    "# mensagem com os parâmetros da query\n",
    "msg = '{\"brand\":\"brandA\",\"itemName\":\"tenisA\",\"itemSpec\":\"serieA\",\"color\":\"rumba\",\"size\":\"36\"}'\n",
    "\n",
    "producer.send = json.loads(msg) # envio dos parâmetros para o servidor Kafka"
   ]
  },
  {
   "cell_type": "code",
   "execution_count": 6,
   "metadata": {},
   "outputs": [
    {
     "data": {
      "text/plain": [
       "{'brand': 'brandA',\n",
       " 'name': 'tenisA',\n",
       " 'subname': 'serieA',\n",
       " 'price': 399.9,\n",
       " 'info': {'size': '36', 'color': 'rumba', 'locale': 'storeA', 'qtt': 3}}"
      ]
     },
     "execution_count": 6,
     "metadata": {},
     "output_type": "execute_result"
    }
   ],
   "source": [
    "pipe.queue[0][0] # resultado da query realizada no servidor MongoDB após o envio dos parâmetros"
   ]
  },
  {
   "cell_type": "code",
   "execution_count": 7,
   "metadata": {},
   "outputs": [],
   "source": [
    "pipe.off # desligando thread de integração\n",
    "pipe.close() # desconectando consumidor Kafka"
   ]
  },
  {
   "cell_type": "code",
   "execution_count": null,
   "metadata": {},
   "outputs": [],
   "source": []
  }
 ],
 "metadata": {
  "kernelspec": {
   "display_name": "Python 3",
   "language": "python",
   "name": "python3"
  },
  "language_info": {
   "codemirror_mode": {
    "name": "ipython",
    "version": 3
   },
   "file_extension": ".py",
   "mimetype": "text/x-python",
   "name": "python",
   "nbconvert_exporter": "python",
   "pygments_lexer": "ipython3",
   "version": "3.7.3"
  }
 },
 "nbformat": 4,
 "nbformat_minor": 2
}
